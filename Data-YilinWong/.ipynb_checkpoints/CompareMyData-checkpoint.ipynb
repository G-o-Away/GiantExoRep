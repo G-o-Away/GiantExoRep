{
 "cells": [
  {
   "cell_type": "code",
   "execution_count": 14,
   "id": "a43689c6-a73f-4408-a85c-6f883d08e7db",
   "metadata": {},
   "outputs": [
    {
     "name": "stdout",
     "output_type": "stream",
     "text": [
      "Number of cases with differences in 'Exo': 169\n",
      "Number of cases with differences in 'Multi': 121\n",
      "Number of cases with differences in 'discoverymethod': 4316\n"
     ]
    }
   ],
   "source": [
    "import pandas as pd\n",
    "\n",
    "# Read the two CSV files into DataFrames\n",
    "df1 = pd.read_csv('combined-dataset.csv')  # First dataset (YW)\n",
    "df2 = pd.read_csv('hypatia-nonCons-noThickDisk-planets-28Feb-nasa.csv')  # Second dataset (NH)\n",
    "\n",
    "# Convert 'HIP' columns to the same data type (e.g., strings)\n",
    "df1['HIP'] = df1['HIP'].astype(str)\n",
    "df2['HIP'] = df2['HIP'].astype(str)\n",
    "\n",
    "# Merge the datasets on the 'HIP' column\n",
    "merged_df = pd.merge(df1, df2, on='HIP', suffixes=('_df1', '_df2'), how='inner')\n",
    "\n",
    "# List of columns to compare\n",
    "columns_to_compare = ['Exo', 'Multi', 'discoverymethod']\n",
    "\n",
    "# Dictionary to hold difference counts\n",
    "difference_counts = {}\n",
    "\n",
    "# Loop through each column and count differences\n",
    "for column in columns_to_compare:\n",
    "    diff_mask = merged_df[f'{column}_df1'] != merged_df[f'{column}_df2']\n",
    "    difference_counts[column] = diff_mask.sum()\n",
    "\n",
    "# Print the difference counts for each column\n",
    "for column, count in difference_counts.items():\n",
    "    print(f\"Number of cases with differences in '{column}': {count}\")\n"
   ]
  },
  {
   "cell_type": "code",
   "execution_count": null,
   "id": "d68bfabf-80aa-4c47-84e6-609a76a62a7a",
   "metadata": {},
   "outputs": [],
   "source": []
  }
 ],
 "metadata": {
  "kernelspec": {
   "display_name": "Python 3 (ipykernel)",
   "language": "python",
   "name": "python3"
  },
  "language_info": {
   "codemirror_mode": {
    "name": "ipython",
    "version": 3
   },
   "file_extension": ".py",
   "mimetype": "text/x-python",
   "name": "python",
   "nbconvert_exporter": "python",
   "pygments_lexer": "ipython3",
   "version": "3.13.0"
  }
 },
 "nbformat": 4,
 "nbformat_minor": 5
}
